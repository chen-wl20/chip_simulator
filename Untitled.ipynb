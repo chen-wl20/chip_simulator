{
 "cells": [
  {
   "cell_type": "code",
   "execution_count": 2,
   "id": "c1a6142b",
   "metadata": {
    "ExecuteTime": {
     "end_time": "2023-01-17T04:06:33.485114Z",
     "start_time": "2023-01-17T04:06:31.610397Z"
    }
   },
   "outputs": [],
   "source": [
    "import cv2\n",
    "import torch\n",
    "import torch.nn as nn\n",
    "import torch.nn.functional as F\n",
    "import torch.optim as optim\n",
    "from torchvision import datasets, transforms\n",
    "import time\n",
    "import matplotlib.pyplot as plt\n",
    "import numpy as np"
   ]
  },
  {
   "cell_type": "code",
   "execution_count": 2,
   "id": "a2a3a09b",
   "metadata": {
    "ExecuteTime": {
     "end_time": "2023-01-16T07:34:58.521308Z",
     "start_time": "2023-01-16T07:34:58.494316Z"
    }
   },
   "outputs": [
    {
     "name": "stderr",
     "output_type": "stream",
     "text": [
      "C:\\Users\\14900\\anaconda3\\lib\\site-packages\\torchvision\\datasets\\mnist.py:498: UserWarning: The given NumPy array is not writeable, and PyTorch does not support non-writeable tensors. This means you can write to the underlying (supposedly non-writeable) NumPy array using the tensor. You may want to copy the array to protect its data or make it writeable before converting it to a tensor. This type of warning will be suppressed for the rest of this program. (Triggered internally at  ..\\torch\\csrc\\utils\\tensor_numpy.cpp:180.)\n",
      "  return torch.from_numpy(parsed.astype(m[2], copy=False)).view(*s)\n"
     ]
    }
   ],
   "source": [
    "pipline_train = transforms.Compose([\n",
    "    #随机旋转图片\n",
    "    transforms.RandomHorizontalFlip(),\n",
    "    #将图片尺寸resize到32x32\n",
    "    transforms.Resize((32,32)),\n",
    "    #将图片转化为Tensor格式\n",
    "    transforms.ToTensor(),\n",
    "    #正则化(当模型出现过拟合的情况时，用来降低模型的复杂度)\n",
    "    transforms.Normalize((0.1307,),(0.3081,))    \n",
    "])\n",
    "pipline_test = transforms.Compose([\n",
    "    #将图片尺寸resize到32x32\n",
    "    transforms.Resize((32,32)),\n",
    "    transforms.ToTensor(),\n",
    "    transforms.Normalize((0.1307,),(0.3081,))\n",
    "\n",
    "])\n",
    "#下载数据集\n",
    "train_set = datasets.MNIST(root=\"./data\", train=True, download=True, transform=pipline_train)\n",
    "test_set = datasets.MNIST(root=\"./data\", train=False, download=True, transform=pipline_test)\n",
    "#加载数据集\n",
    "trainloader = torch.utils.data.DataLoader(train_set, batch_size=64, shuffle=True)\n",
    "testloader = torch.utils.data.DataLoader(test_set, batch_size=32, shuffle=False)"
   ]
  },
  {
   "cell_type": "code",
   "execution_count": 7,
   "id": "1213de10",
   "metadata": {
    "ExecuteTime": {
     "end_time": "2023-01-17T04:07:23.948672Z",
     "start_time": "2023-01-17T04:07:23.941670Z"
    }
   },
   "outputs": [],
   "source": [
    "class LeNet(nn.Module):\n",
    "    def __init__(self):\n",
    "        super(LeNet, self).__init__()\n",
    "        self.conv1 = nn.Conv2d(1, 6, 5, bias=False)\n",
    "        self.relu = nn.ReLU()\n",
    "        self.maxpool1 = nn.MaxPool2d(2, 2)\n",
    "        self.conv2 = nn.Conv2d(6, 16, 5, bias=False)\n",
    "        self.maxpool2 = nn.MaxPool2d(2, 2)\n",
    "        self.fc1 = nn.Linear(16*5*5, 120, bias=False)\n",
    "        self.fc2 = nn.Linear(120, 84,bias=False)\n",
    "        self.fc3 = nn.Linear(84, 10, bias=False)\n",
    " \n",
    " \n",
    "    def forward(self, x):\n",
    "        x = self.conv1(x)\n",
    "        x = self.relu(x)\n",
    "        x = self.maxpool1(x)\n",
    "        x = self.conv2(x)\n",
    "        x = self.maxpool2(x)\n",
    "        x = x.view(-1, 16*5*5)\n",
    "        x = F.relu(self.fc1(x))\n",
    "        x = F.relu(self.fc2(x))\n",
    "        x = self.fc3(x)\n",
    "        output = F.log_softmax(x, dim=1)\n",
    "        return output"
   ]
  },
  {
   "cell_type": "code",
   "execution_count": 8,
   "id": "21f28dfa",
   "metadata": {
    "ExecuteTime": {
     "end_time": "2023-01-17T04:07:28.497591Z",
     "start_time": "2023-01-17T04:07:25.871098Z"
    }
   },
   "outputs": [],
   "source": [
    "#创建模型，部署gpu\n",
    "device = torch.device(\"cuda\" if torch.cuda.is_available() else \"cpu\")\n",
    "model = LeNet().to(device)\n",
    "#定义优化器\n",
    "optimizer = optim.Adam(model.parameters(), lr=0.001)"
   ]
  },
  {
   "cell_type": "code",
   "execution_count": 5,
   "id": "83324a69",
   "metadata": {
    "ExecuteTime": {
     "end_time": "2023-01-16T07:35:00.371538Z",
     "start_time": "2023-01-16T07:35:00.366533Z"
    }
   },
   "outputs": [],
   "source": [
    "def train_runner(model, device, trainloader, optimizer, epoch):\n",
    "    #训练模型, 启用 BatchNormalization 和 Dropout, 将BatchNormalization和Dropout置为True\n",
    "    model.train()\n",
    "    total = 0\n",
    "    correct =0.0\n",
    " \n",
    " \n",
    "    #enumerate迭代已加载的数据集,同时获取数据和数据下标\n",
    "    for i, data in enumerate(trainloader, 0):\n",
    "        inputs, labels = data\n",
    "        #把模型部署到device上\n",
    "        inputs, labels = inputs.to(device), labels.to(device)\n",
    "        #初始化梯度\n",
    "        optimizer.zero_grad()\n",
    "        #保存训练结果\n",
    "        outputs = model(inputs)\n",
    "        #计算损失和\n",
    "        #多分类情况通常使用cross_entropy(交叉熵损失函数), 而对于二分类问题, 通常使用sigmod\n",
    "        loss = F.cross_entropy(outputs, labels)\n",
    "        #获取最大概率的预测结果\n",
    "        #dim=1表示返回每一行的最大值对应的列下标\n",
    "        predict = outputs.argmax(dim=1)\n",
    "        total += labels.size(0)\n",
    "        correct += (predict == labels).sum().item()\n",
    "        #反向传播\n",
    "        loss.backward()\n",
    "        #更新参数\n",
    "        optimizer.step()\n",
    "        if i % 1000 == 0:\n",
    "            #loss.item()表示当前loss的数值\n",
    "            print(\"Train Epoch{} \\t Loss: {:.6f}, accuracy: {:.6f}%\".format(epoch, loss.item(), 100*(correct/total)))\n",
    "            Loss.append(loss.item())\n",
    "            Accuracy.append(correct/total)\n",
    "    return loss.item(), correct/total"
   ]
  },
  {
   "cell_type": "code",
   "execution_count": 6,
   "id": "284b8a28",
   "metadata": {
    "ExecuteTime": {
     "end_time": "2023-01-16T07:35:00.378538Z",
     "start_time": "2023-01-16T07:35:00.373536Z"
    }
   },
   "outputs": [],
   "source": [
    "def test_runner(model, device, testloader):\n",
    "    #模型验证, 必须要写, 否则只要有输入数据, 即使不训练, 它也会改变权值\n",
    "    #因为调用eval()将不启用 BatchNormalization 和 Dropout, BatchNormalization和Dropout置为False\n",
    "    model.eval()\n",
    "    #统计模型正确率, 设置初始值\n",
    "    correct = 0.0\n",
    "    test_loss = 0.0\n",
    "    total = 0\n",
    "    #torch.no_grad将不会计算梯度, 也不会进行反向传播\n",
    "    with torch.no_grad():\n",
    "        for data, label in testloader:\n",
    "            data, label = data.to(device), label.to(device)\n",
    "            output = model(data)\n",
    "            test_loss += F.cross_entropy(output, label).item()\n",
    "            predict = output.argmax(dim=1)\n",
    "            #计算正确数量\n",
    "            total += label.size(0)\n",
    "            correct += (predict == label).sum().item()\n",
    "        #计算损失值\n",
    "        print(\"test_avarage_loss: {:.6f}, accuracy: {:.6f}%\".format(test_loss/total, 100*(correct/total)))"
   ]
  },
  {
   "cell_type": "code",
   "execution_count": 7,
   "id": "aa0a014a",
   "metadata": {
    "ExecuteTime": {
     "end_time": "2023-01-16T07:37:29.832781Z",
     "start_time": "2023-01-16T07:35:00.379537Z"
    }
   },
   "outputs": [
    {
     "name": "stdout",
     "output_type": "stream",
     "text": [
      "start_time 2023-01-16 15:35:00\n"
     ]
    },
    {
     "name": "stderr",
     "output_type": "stream",
     "text": [
      "C:\\Users\\14900\\anaconda3\\lib\\site-packages\\torch\\nn\\functional.py:718: UserWarning: Named tensors and all their associated APIs are an experimental feature and subject to change. Please do not use them for anything important until they are released as stable. (Triggered internally at  ..\\c10/core/TensorImpl.h:1156.)\n",
      "  return torch.max_pool2d(input, kernel_size, stride, padding, dilation, ceil_mode)\n"
     ]
    },
    {
     "name": "stdout",
     "output_type": "stream",
     "text": [
      "Train Epoch1 \t Loss: 2.301164, accuracy: 12.500000%\n",
      "test_avarage_loss: 0.003780, accuracy: 95.820000%\n",
      "end_time:  2023-01-16 15:35:16 \n",
      "\n",
      "start_time 2023-01-16 15:35:16\n",
      "Train Epoch2 \t Loss: 0.126224, accuracy: 96.875000%\n",
      "test_avarage_loss: 0.003127, accuracy: 96.750000%\n",
      "end_time:  2023-01-16 15:35:30 \n",
      "\n",
      "start_time 2023-01-16 15:35:30\n",
      "Train Epoch3 \t Loss: 0.099037, accuracy: 96.875000%\n",
      "test_avarage_loss: 0.002589, accuracy: 97.320000%\n",
      "end_time:  2023-01-16 15:35:45 \n",
      "\n",
      "start_time 2023-01-16 15:35:45\n",
      "Train Epoch4 \t Loss: 0.102742, accuracy: 96.875000%\n",
      "test_avarage_loss: 0.002491, accuracy: 97.650000%\n",
      "end_time:  2023-01-16 15:36:00 \n",
      "\n",
      "start_time 2023-01-16 15:36:00\n",
      "Train Epoch5 \t Loss: 0.243669, accuracy: 96.875000%\n",
      "test_avarage_loss: 0.002441, accuracy: 97.520000%\n",
      "end_time:  2023-01-16 15:36:14 \n",
      "\n",
      "start_time 2023-01-16 15:36:14\n",
      "Train Epoch6 \t Loss: 0.034886, accuracy: 100.000000%\n",
      "test_avarage_loss: 0.001807, accuracy: 98.320000%\n",
      "end_time:  2023-01-16 15:36:30 \n",
      "\n",
      "start_time 2023-01-16 15:36:30\n",
      "Train Epoch7 \t Loss: 0.048996, accuracy: 96.875000%\n",
      "test_avarage_loss: 0.001635, accuracy: 98.310000%\n",
      "end_time:  2023-01-16 15:36:44 \n",
      "\n",
      "start_time 2023-01-16 15:36:44\n",
      "Train Epoch8 \t Loss: 0.061219, accuracy: 98.437500%\n",
      "test_avarage_loss: 0.001611, accuracy: 98.480000%\n",
      "end_time:  2023-01-16 15:36:59 \n",
      "\n",
      "start_time 2023-01-16 15:36:59\n",
      "Train Epoch9 \t Loss: 0.001382, accuracy: 100.000000%\n",
      "test_avarage_loss: 0.001826, accuracy: 98.260000%\n",
      "end_time:  2023-01-16 15:37:14 \n",
      "\n",
      "start_time 2023-01-16 15:37:14\n",
      "Train Epoch10 \t Loss: 0.002345, accuracy: 100.000000%\n",
      "test_avarage_loss: 0.001665, accuracy: 98.470000%\n",
      "end_time:  2023-01-16 15:37:29 \n",
      "\n",
      "Finished Training\n"
     ]
    },
    {
     "data": {
      "image/png": "[encoded data removed]",
      "text/plain": [
       "<Figure size 432x288 with 1 Axes>"
      ]
     },
     "metadata": {
      "needs_background": "light"
     },
     "output_type": "display_data"
    },
    {
     "data": {
      "image/png": "[encoded data removed]",
      "text/plain": [
       "<Figure size 432x288 with 1 Axes>"
      ]
     },
     "metadata": {
      "needs_background": "light"
     },
     "output_type": "display_data"
    }
   ],
   "source": [
    "# 调用\n",
    "epoch = 10\n",
    "Loss = []\n",
    "Accuracy = []\n",
    "for epoch in range(1, epoch+1):\n",
    "    print(\"start_time\",time.strftime('%Y-%m-%d %H:%M:%S',time.localtime(time.time())))\n",
    "    loss, acc = train_runner(model, device, trainloader, optimizer, epoch)\n",
    "    Loss.append(loss)\n",
    "    Accuracy.append(acc)\n",
    "    test_runner(model, device, testloader)\n",
    "    print(\"end_time: \",time.strftime('%Y-%m-%d %H:%M:%S',time.localtime(time.time())),'\\n')\n",
    " \n",
    " \n",
    "print('Finished Training')\n",
    "plt.subplot(2,1,1)\n",
    "plt.plot(Loss)\n",
    "plt.title('Loss')\n",
    "plt.show()\n",
    "plt.subplot(2,1,2)\n",
    "plt.plot(Accuracy)\n",
    "plt.title('Accuracy')\n",
    "plt.show()"
   ]
  },
  {
   "cell_type": "code",
   "execution_count": 8,
   "id": "0b5f9065",
   "metadata": {
    "ExecuteTime": {
     "end_time": "2023-01-16T07:37:29.843777Z",
     "start_time": "2023-01-16T07:37:29.833761Z"
    }
   },
   "outputs": [
    {
     "name": "stdout",
     "output_type": "stream",
     "text": [
      "LeNet(\n",
      "  (conv1): Conv2d(1, 6, kernel_size=(5, 5), stride=(1, 1), bias=False)\n",
      "  (relu): ReLU()\n",
      "  (maxpool1): MaxPool2d(kernel_size=2, stride=2, padding=0, dilation=1, ceil_mode=False)\n",
      "  (conv2): Conv2d(6, 16, kernel_size=(5, 5), stride=(1, 1), bias=False)\n",
      "  (maxpool2): MaxPool2d(kernel_size=2, stride=2, padding=0, dilation=1, ceil_mode=False)\n",
      "  (fc1): Linear(in_features=400, out_features=120, bias=False)\n",
      "  (fc2): Linear(in_features=120, out_features=84, bias=False)\n",
      "  (fc3): Linear(in_features=84, out_features=10, bias=False)\n",
      ")\n"
     ]
    }
   ],
   "source": [
    "print(model)\n",
    "torch.save(model, './model-mnist1.pth') #保存模型"
   ]
  },
  {
   "cell_type": "code",
   "execution_count": 9,
   "id": "e239bbec",
   "metadata": {
    "ExecuteTime": {
     "end_time": "2023-01-17T04:07:30.783901Z",
     "start_time": "2023-01-17T04:07:28.498608Z"
    }
   },
   "outputs": [
    {
     "data": {
      "image/png": "[encoded data removed]",
      "text/plain": [
       "<Figure size 432x288 with 1 Axes>"
      ]
     },
     "metadata": {
      "needs_background": "light"
     },
     "output_type": "display_data"
    },
    {
     "name": "stderr",
     "output_type": "stream",
     "text": [
      "C:\\Users\\14900\\anaconda3\\lib\\site-packages\\torch\\nn\\functional.py:718: UserWarning: Named tensors and all their associated APIs are an experimental feature and subject to change. Please do not use them for anything important until they are released as stable. (Triggered internally at  ..\\c10/core/TensorImpl.h:1156.)\n",
      "  return torch.max_pool2d(input, kernel_size, stride, padding, dilation, ceil_mode)\n"
     ]
    },
    {
     "name": "stdout",
     "output_type": "stream",
     "text": [
      "概率： tensor([[8.0442e-09, 2.2321e-08, 5.5587e-05, 2.5221e-03, 2.8357e-07, 9.9726e-01,\n",
      "         7.6309e-06, 6.9626e-05, 7.8864e-05, 6.1479e-06]], device='cuda:0',\n",
      "       grad_fn=<SoftmaxBackward>)\n",
      "预测类别： 5\n"
     ]
    }
   ],
   "source": [
    "import cv2\n",
    " \n",
    "device = torch.device('cuda' if torch.cuda.is_available() else 'cpu')\n",
    "model = torch.load('./model-mnist.pth') #加载模型\n",
    "model = model.to(device)\n",
    "model.eval()    #把模型转为test模式\n",
    "\n",
    "\n",
    "#读取要预测的图片\n",
    "img = cv2.imread(\"./test_mnist.jpg\")\n",
    "img=cv2.resize(img,dsize=(32,32),interpolation=cv2.INTER_NEAREST)\n",
    "plt.imshow(img,cmap=\"gray\") # 显示图片\n",
    "plt.axis('off') # 不显示坐标轴\n",
    "plt.show()\n",
    "\n",
    "\n",
    "# 导入图片，图片扩展后为[1，1，32，32]\n",
    "trans = transforms.Compose(\n",
    "    [\n",
    "        transforms.ToTensor(),\n",
    "        transforms.Normalize((0.1307,), (0.3081,))\n",
    "    ])\n",
    "img = cv2.cvtColor(img, cv2.COLOR_BGR2GRAY)#图片转为灰度图，因为mnist数据集都是灰度图\n",
    "img = trans(img)\n",
    "img = img.to(device)\n",
    "img = img.unsqueeze(0)  #图片扩展多一维,因为输入到保存的模型中是4维的[batch_size,通道,长，宽]，而普通图片只有三维，[通道,长，宽]\n",
    "\n",
    "# 预测 \n",
    "output = model(img)\n",
    "prob = F.softmax(output,dim=1) #prob是10个分类的概率\n",
    "print(\"概率：\",prob)\n",
    "value, predicted = torch.max(output.data, 1)\n",
    "predict = output.argmax(dim=1)\n",
    "print(\"预测类别：\",predict.item())"
   ]
  },
  {
   "cell_type": "code",
   "execution_count": 10,
   "id": "0c40c4b5",
   "metadata": {
    "ExecuteTime": {
     "end_time": "2023-01-17T04:07:30.790904Z",
     "start_time": "2023-01-17T04:07:30.785902Z"
    }
   },
   "outputs": [
    {
     "name": "stdout",
     "output_type": "stream",
     "text": [
      "(1, 1, 32, 32)\n"
     ]
    }
   ],
   "source": [
    "print(img.to('cpu').numpy().shape)\n",
    "np.savetxt('./img.txt', img.to('cpu').numpy()[0][0], fmt='%f', delimiter=' ')"
   ]
  },
  {
   "cell_type": "code",
   "execution_count": 33,
   "id": "501a475f",
   "metadata": {
    "ExecuteTime": {
     "end_time": "2023-01-17T04:32:17.493866Z",
     "start_time": "2023-01-17T04:32:17.488874Z"
    }
   },
   "outputs": [],
   "source": [
    "np.savetxt('./img1.txt', img.to('cpu').permute(0, 1, 3, 2).numpy()[0][0], fmt='%f', delimiter=' ')"
   ]
  },
  {
   "cell_type": "code",
   "execution_count": 11,
   "id": "9483f632",
   "metadata": {
    "ExecuteTime": {
     "end_time": "2023-01-17T04:07:30.798909Z",
     "start_time": "2023-01-17T04:07:30.791902Z"
    }
   },
   "outputs": [
    {
     "name": "stdout",
     "output_type": "stream",
     "text": [
      "tensor([[8.0442e-09, 2.2321e-08, 5.5587e-05, 2.5221e-03, 2.8357e-07, 9.9726e-01,\n",
      "         7.6309e-06, 6.9626e-05, 7.8864e-05, 6.1479e-06]], device='cuda:0',\n",
      "       grad_fn=<SoftmaxBackward>)\n"
     ]
    },
    {
     "name": "stderr",
     "output_type": "stream",
     "text": [
      "C:\\Users\\14900\\AppData\\Local\\Temp/ipykernel_4736/544560455.py:1: UserWarning: Implicit dimension choice for softmax has been deprecated. Change the call to include dim=X as an argument.\n",
      "  print(F.softmax(model(img)))\n"
     ]
    }
   ],
   "source": [
    "print(F.softmax(model(img)))"
   ]
  },
  {
   "cell_type": "code",
   "execution_count": 12,
   "id": "3a16f981",
   "metadata": {
    "ExecuteTime": {
     "end_time": "2023-01-17T04:07:30.837914Z",
     "start_time": "2023-01-17T04:07:30.800906Z"
    },
    "scrolled": true
   },
   "outputs": [
    {
     "name": "stdout",
     "output_type": "stream",
     "text": [
      "LeNet(\n",
      "  (conv1): Conv2d(1, 6, kernel_size=(5, 5), stride=(1, 1), bias=False)\n",
      "  (relu): ReLU()\n",
      "  (maxpool1): MaxPool2d(kernel_size=2, stride=2, padding=0, dilation=1, ceil_mode=False)\n",
      "  (conv2): Conv2d(6, 16, kernel_size=(5, 5), stride=(1, 1), bias=False)\n",
      "  (maxpool2): MaxPool2d(kernel_size=2, stride=2, padding=0, dilation=1, ceil_mode=False)\n",
      "  (fc1): Linear(in_features=400, out_features=120, bias=False)\n",
      "  (fc2): Linear(in_features=120, out_features=84, bias=False)\n",
      "  (fc3): Linear(in_features=84, out_features=10, bias=False)\n",
      ")\n",
      "conv1 torch.Size([6, 1, 5, 5])\n",
      "conv2 torch.Size([16, 6, 5, 5])\n",
      "fc1 torch.Size([120, 400])\n",
      "fc2 torch.Size([84, 120])\n",
      "fc3 torch.Size([10, 84])\n",
      "torch.Size([1, 6, 28, 28])\n",
      "torch.Size([1, 6, 28, 28])\n",
      "torch.Size([1, 6, 14, 14])\n",
      "torch.Size([1, 16, 10, 10])\n",
      "torch.Size([1, 16, 5, 5])\n",
      "torch.Size([1, 120])\n",
      "torch.Size([1, 84])\n",
      "tensor([[-11.0130,  -9.9927,  -2.1721,   1.6423,  -7.4504,   7.6225,  -4.1580,\n",
      "          -1.9472,  -1.8224,  -4.3741]], grad_fn=<MmBackward>)\n",
      "tensor([[8.0446e-09, 2.2318e-08, 5.5599e-05, 2.5215e-03, 2.8362e-07, 9.9726e-01,\n",
      "         7.6312e-06, 6.9620e-05, 7.8880e-05, 6.1485e-06]],\n",
      "       grad_fn=<SoftmaxBackward>)\n"
     ]
    },
    {
     "name": "stderr",
     "output_type": "stream",
     "text": [
      "C:\\Users\\14900\\AppData\\Local\\Temp/ipykernel_4736/4115127608.py:24: UserWarning: Implicit dimension choice for softmax has been deprecated. Change the call to include dim=X as an argument.\n",
      "  print(F.softmax(x8))\n"
     ]
    }
   ],
   "source": [
    "x = img.to('cpu')\n",
    "model.to('cpu')\n",
    "print(model)\n",
    "for name, module in model._modules.items():\n",
    "    if name == \"relu\" or name == 'maxpool1' or name == 'maxpool2':\n",
    "        continue\n",
    "    print(name, module.weight.shape)\n",
    "x1 = model.conv1(x)\n",
    "print(x1.shape)\n",
    "x2 = model.relu(x1)\n",
    "print(x2.shape)\n",
    "x3 = model.maxpool1(x2)\n",
    "print(x3.shape)\n",
    "x4 = model.conv2(x3)\n",
    "print(x4.shape)\n",
    "x5 = model.maxpool2(x4)\n",
    "print(x5.shape)\n",
    "x6 = model.relu(model.fc1(x5.view(-1, 400)))\n",
    "print(x6.shape)\n",
    "x7 = model.relu(model.fc2(x6))\n",
    "print(x7.shape)\n",
    "x8 = model.fc3(x7)\n",
    "print(x8)\n",
    "print(F.softmax(x8))"
   ]
  },
  {
   "cell_type": "code",
   "execution_count": 13,
   "id": "3f9dbe12",
   "metadata": {
    "ExecuteTime": {
     "end_time": "2023-01-17T04:07:30.844914Z",
     "start_time": "2023-01-17T04:07:30.838914Z"
    }
   },
   "outputs": [],
   "source": [
    "np.savetxt('./fc3.txt', model.fc3.weight.to('cpu').detach().numpy(), fmt='%f', delimiter=' ')"
   ]
  },
  {
   "cell_type": "code",
   "execution_count": 14,
   "id": "9ca88cac",
   "metadata": {
    "ExecuteTime": {
     "end_time": "2023-01-17T04:07:30.850915Z",
     "start_time": "2023-01-17T04:07:30.845914Z"
    }
   },
   "outputs": [],
   "source": [
    "np.savetxt('./x7.txt', x7.detach().numpy(), fmt='%f', delimiter=' ')"
   ]
  },
  {
   "cell_type": "code",
   "execution_count": 15,
   "id": "7a85f348",
   "metadata": {
    "ExecuteTime": {
     "end_time": "2023-01-17T04:07:31.542324Z",
     "start_time": "2023-01-17T04:07:31.537331Z"
    }
   },
   "outputs": [],
   "source": [
    "np.savetxt('./x8.txt', x8.detach().numpy(), fmt='%f', delimiter=' ')"
   ]
  },
  {
   "cell_type": "code",
   "execution_count": 16,
   "id": "2e054705",
   "metadata": {
    "ExecuteTime": {
     "end_time": "2023-01-17T04:07:31.813596Z",
     "start_time": "2023-01-17T04:07:31.807595Z"
    }
   },
   "outputs": [],
   "source": [
    "np.savetxt('./x6.txt', x6.detach().numpy(), fmt='%f', delimiter=' ')"
   ]
  },
  {
   "cell_type": "code",
   "execution_count": 17,
   "id": "4a27d188",
   "metadata": {
    "ExecuteTime": {
     "end_time": "2023-01-17T04:07:32.526682Z",
     "start_time": "2023-01-17T04:07:32.518696Z"
    }
   },
   "outputs": [],
   "source": [
    "np.savetxt('./fc2.txt', model.fc2.weight.to('cpu').detach().numpy(), fmt='%f', delimiter=' ')"
   ]
  },
  {
   "cell_type": "code",
   "execution_count": 18,
   "id": "70ccc376",
   "metadata": {
    "ExecuteTime": {
     "end_time": "2023-01-17T04:07:32.803319Z",
     "start_time": "2023-01-17T04:07:32.787314Z"
    }
   },
   "outputs": [],
   "source": [
    "np.savetxt('./fc1.txt', model.fc1.weight.to('cpu').detach().numpy(), fmt='%f', delimiter=' ')"
   ]
  },
  {
   "cell_type": "code",
   "execution_count": 19,
   "id": "76294dbd",
   "metadata": {
    "ExecuteTime": {
     "end_time": "2023-01-17T04:07:32.978823Z",
     "start_time": "2023-01-17T04:07:32.973828Z"
    }
   },
   "outputs": [],
   "source": [
    "np.savetxt('./x5.txt', x5.view(-1, 400).detach().numpy(), fmt='%f', delimiter=' ')"
   ]
  },
  {
   "cell_type": "code",
   "execution_count": 20,
   "id": "dd01b1e6",
   "metadata": {
    "ExecuteTime": {
     "end_time": "2023-01-17T04:07:33.146377Z",
     "start_time": "2023-01-17T04:07:33.140376Z"
    }
   },
   "outputs": [],
   "source": [
    "np.savetxt('./x4.txt', x4.view(1,-1).detach().numpy(), fmt='%f', delimiter=' ')"
   ]
  },
  {
   "cell_type": "code",
   "execution_count": 21,
   "id": "edf36c7a",
   "metadata": {
    "ExecuteTime": {
     "end_time": "2023-01-17T04:07:33.285087Z",
     "start_time": "2023-01-17T04:07:33.280092Z"
    }
   },
   "outputs": [],
   "source": [
    "np.savetxt('./x3.txt', x3.view(1, -1).detach().numpy(), fmt='%f', delimiter=' ')"
   ]
  },
  {
   "cell_type": "code",
   "execution_count": 22,
   "id": "02650c92",
   "metadata": {
    "ExecuteTime": {
     "end_time": "2023-01-17T04:07:33.475463Z",
     "start_time": "2023-01-17T04:07:33.469460Z"
    }
   },
   "outputs": [],
   "source": [
    "np.savetxt('./conv2.txt', model.conv2.weight.reshape(1, -1).detach().numpy(), fmt='%f', delimiter=' ')"
   ]
  },
  {
   "cell_type": "code",
   "execution_count": 23,
   "id": "74944bd0",
   "metadata": {
    "ExecuteTime": {
     "end_time": "2023-01-17T04:07:33.656500Z",
     "start_time": "2023-01-17T04:07:33.651500Z"
    }
   },
   "outputs": [
    {
     "name": "stdout",
     "output_type": "stream",
     "text": [
      "tensor([[[[2., 3.]]]])\n"
     ]
    }
   ],
   "source": [
    "a = torch.tensor([[[[0, 1, 2., 3],[1, 2, 2, 3]]]])\n",
    "print(model.maxpool2(a))"
   ]
  },
  {
   "cell_type": "code",
   "execution_count": 24,
   "id": "38e4fea2",
   "metadata": {
    "ExecuteTime": {
     "end_time": "2023-01-17T04:07:34.439234Z",
     "start_time": "2023-01-17T04:07:34.434239Z"
    }
   },
   "outputs": [
    {
     "name": "stdout",
     "output_type": "stream",
     "text": [
      "tensor([[-1.1299e-02, -1.7758e+01, -5.4058e+00,  2.6564e+00,  3.0873e+00,\n",
      "          4.5316e+00, -2.1640e+00,  1.0910e+01, -8.9131e+00, -3.3874e+00,\n",
      "         -1.4372e+01, -1.6017e+01, -6.6490e+00,  1.1027e-01, -1.3639e+00,\n",
      "         -2.0439e+01, -1.2657e+01, -1.4657e+01, -6.9704e+00,  3.4463e+00,\n",
      "         -9.5541e-01, -1.3455e+01, -2.7103e+00, -1.1615e+01, -9.0732e+00,\n",
      "         -1.2542e+01, -1.3045e+01, -9.5659e+00, -7.3412e+00, -2.0904e+00,\n",
      "          6.7957e-01, -1.0679e+01,  1.3400e+01, -1.6698e+01, -5.9789e+00,\n",
      "          2.2679e+00, -1.6320e+00, -6.0601e+00, -5.7497e+00, -8.6893e-01,\n",
      "         -3.2842e+01, -1.0786e+01,  4.2673e+00, -5.1990e+00, -5.5759e+00,\n",
      "          8.4157e-02, -1.8469e+00, -8.7042e+00, -1.3790e+01, -1.0797e+01,\n",
      "         -1.7424e+00, -1.9834e+01, -3.6955e+00, -3.3955e+00, -2.9100e+00,\n",
      "         -5.4631e+00,  1.1255e+00, -8.9281e+00,  7.1579e+00, -1.4863e+00,\n",
      "          7.5064e+00,  5.1729e-01, -1.2891e+01, -1.5757e+01, -1.2815e+00,\n",
      "         -8.7806e+00, -1.8224e+01, -1.1506e+00, -1.4937e+01,  4.6624e+00,\n",
      "         -1.0397e+01,  5.9075e+00, -1.3438e+00, -1.2570e-01, -1.0911e+01,\n",
      "         -4.0553e+00, -2.7119e+01, -1.0435e+01, -1.2184e+01, -2.6911e+00,\n",
      "         -1.0019e+01, -4.0820e+00, -1.7812e+01, -1.1282e+01, -7.1060e+00,\n",
      "         -1.5560e+01, -1.0716e+00, -1.6441e+00,  1.6883e+00, -1.9973e+01,\n",
      "         -7.6847e+00, -1.1327e+01, -2.0246e+00, -1.9996e+01, -7.3332e+00,\n",
      "          2.9846e-01, -1.1292e+00, -8.7751e+00, -1.0966e+01, -2.2086e+01,\n",
      "         -7.8337e+00, -3.4281e+00, -3.2916e+00,  7.7192e+00, -1.4966e+01,\n",
      "         -5.3720e+00, -3.4877e+00, -8.2211e+00,  1.8842e+00, -5.8270e+00,\n",
      "          5.0703e+00, -3.3449e+00, -3.5728e+00, -6.7801e+00,  5.7421e+00,\n",
      "         -1.1926e+01, -1.8956e+01, -6.0066e+00, -1.4036e+01, -8.3538e+00]],\n",
      "       grad_fn=<MmBackward>)\n"
     ]
    }
   ],
   "source": [
    "print(model.fc1(x5.view(-1, 400)))"
   ]
  },
  {
   "cell_type": "code",
   "execution_count": 25,
   "id": "10b000e3",
   "metadata": {
    "ExecuteTime": {
     "end_time": "2023-01-17T04:07:37.337186Z",
     "start_time": "2023-01-17T04:07:37.330180Z"
    }
   },
   "outputs": [
    {
     "name": "stdout",
     "output_type": "stream",
     "text": [
      "torch.Size([1, 16, 10, 10]) torch.Size([1, 16, 10, 10])\n"
     ]
    }
   ],
   "source": [
    "print(x4.shape, x4.permute(0, 1, 3, 2).shape)\n",
    "np.savetxt('./x4_1.txt', x4.permute(0, 1, 3, 2).reshape(1,-1).detach().numpy(), fmt='%f', delimiter=' ')"
   ]
  },
  {
   "cell_type": "code",
   "execution_count": 26,
   "id": "36269daf",
   "metadata": {
    "ExecuteTime": {
     "end_time": "2023-01-17T04:07:37.527252Z",
     "start_time": "2023-01-17T04:07:37.521244Z"
    }
   },
   "outputs": [],
   "source": [
    "np.savetxt('./x4_2.txt', x4.permute(0, 1, 2, 3).reshape(1,-1).detach().numpy(), fmt='%f', delimiter=' ')"
   ]
  },
  {
   "cell_type": "code",
   "execution_count": 27,
   "id": "5672222d",
   "metadata": {
    "ExecuteTime": {
     "end_time": "2023-01-17T04:07:37.890842Z",
     "start_time": "2023-01-17T04:07:37.883854Z"
    }
   },
   "outputs": [],
   "source": [
    "np.savetxt('./x4_3.txt', x4.permute(0, 2, 3, 1).reshape(1,-1).detach().numpy(), fmt='%f', delimiter=' ')"
   ]
  },
  {
   "cell_type": "code",
   "execution_count": 28,
   "id": "e00289c3",
   "metadata": {
    "ExecuteTime": {
     "end_time": "2023-01-17T04:07:38.063729Z",
     "start_time": "2023-01-17T04:07:38.057740Z"
    }
   },
   "outputs": [],
   "source": [
    "np.savetxt('./x4_4.txt', x4.permute(0, 3, 2, 1).reshape(1,-1).detach().numpy(), fmt='%f', delimiter=' ')"
   ]
  },
  {
   "cell_type": "code",
   "execution_count": 29,
   "id": "f8cf14ba",
   "metadata": {
    "ExecuteTime": {
     "end_time": "2023-01-17T04:07:38.215855Z",
     "start_time": "2023-01-17T04:07:38.209851Z"
    }
   },
   "outputs": [],
   "source": [
    "np.savetxt('./x4_5.txt', x4.permute(0, 2, 1, 3).reshape(1,-1).detach().numpy(), fmt='%f', delimiter=' ')"
   ]
  },
  {
   "cell_type": "code",
   "execution_count": 30,
   "id": "5cf87479",
   "metadata": {
    "ExecuteTime": {
     "end_time": "2023-01-17T04:07:38.356023Z",
     "start_time": "2023-01-17T04:07:38.349030Z"
    }
   },
   "outputs": [],
   "source": [
    "np.savetxt('./x4_6.txt', x4.permute(0, 3, 1, 2).reshape(1,-1).detach().numpy(), fmt='%f', delimiter=' ')"
   ]
  },
  {
   "cell_type": "code",
   "execution_count": 36,
   "id": "a0b2a24b",
   "metadata": {
    "ExecuteTime": {
     "end_time": "2023-01-17T04:49:59.867072Z",
     "start_time": "2023-01-17T04:49:59.859071Z"
    }
   },
   "outputs": [
    {
     "name": "stdout",
     "output_type": "stream",
     "text": [
      "tensor([[ 1,  2,  3,  4,  5,  6,  7,  8,  9, 10, 11, 12]])\n",
      "torch.Size([1, 1, 3, 4])\n",
      "tensor([[ 1,  5,  9,  2,  6, 10,  3,  7, 11,  4,  8, 12]])\n"
     ]
    }
   ],
   "source": [
    "a = torch.tensor([[[[1, 2, 3, 4],[5, 6, 7, 8], [9, 10, 11, 12]]]])\n",
    "print(a.reshape(1, -1))\n",
    "print(a.shape)\n",
    "print(a.permute(0, 1, 3, 2).reshape(1, -1))"
   ]
  },
  {
   "cell_type": "code",
   "execution_count": 31,
   "id": "3ec4283b",
   "metadata": {
    "ExecuteTime": {
     "end_time": "2023-01-17T04:08:11.893226Z",
     "start_time": "2023-01-17T04:08:11.887224Z"
    }
   },
   "outputs": [],
   "source": [
    "np.savetxt('./conv1.txt', model.conv1.weight.to('cpu').reshape(1, -1).detach().numpy(), fmt='%f', delimiter=' ')"
   ]
  },
  {
   "cell_type": "code",
   "execution_count": 32,
   "id": "f086aa22",
   "metadata": {
    "ExecuteTime": {
     "end_time": "2023-01-17T04:08:23.030770Z",
     "start_time": "2023-01-17T04:08:23.025769Z"
    }
   },
   "outputs": [],
   "source": [
    "np.savetxt('./conv2.txt', model.conv2.weight.to('cpu').reshape(1, -1).detach().numpy(), fmt='%f', delimiter=' ')"
   ]
  },
  {
   "cell_type": "code",
   "execution_count": 34,
   "id": "b8b31866",
   "metadata": {
    "ExecuteTime": {
     "end_time": "2023-01-17T04:35:33.902936Z",
     "start_time": "2023-01-17T04:35:33.897934Z"
    }
   },
   "outputs": [],
   "source": [
    "np.savetxt('./x1.txt', x1.reshape(1, -1).detach().numpy(), fmt='%f', delimiter=' ')"
   ]
  },
  {
   "cell_type": "code",
   "execution_count": 35,
   "id": "fed24f5f",
   "metadata": {
    "ExecuteTime": {
     "end_time": "2023-01-17T04:35:56.188467Z",
     "start_time": "2023-01-17T04:35:56.182926Z"
    }
   },
   "outputs": [],
   "source": [
    "np.savetxt('./x2.txt', x2.reshape(1, -1).detach().numpy(), fmt='%f', delimiter=' ')"
   ]
  },
  {
   "cell_type": "code",
   "execution_count": 38,
   "id": "1ff37021",
   "metadata": {
    "ExecuteTime": {
     "end_time": "2023-01-17T05:43:29.350754Z",
     "start_time": "2023-01-17T05:43:29.345753Z"
    }
   },
   "outputs": [
    {
     "name": "stdout",
     "output_type": "stream",
     "text": [
      "None\n"
     ]
    }
   ],
   "source": [
    "print(model.conv1.bias)"
   ]
  },
  {
   "cell_type": "code",
   "execution_count": 39,
   "id": "3f368106",
   "metadata": {
    "ExecuteTime": {
     "end_time": "2023-01-17T05:43:40.598443Z",
     "start_time": "2023-01-17T05:43:40.593441Z"
    }
   },
   "outputs": [
    {
     "name": "stdout",
     "output_type": "stream",
     "text": [
      "None\n"
     ]
    }
   ],
   "source": [
    "print(model.conv2.bias)"
   ]
  },
  {
   "cell_type": "code",
   "execution_count": null,
   "id": "dfbe28fb",
   "metadata": {},
   "outputs": [],
   "source": []
  }
 ],
 "metadata": {
  "kernelspec": {
   "display_name": "Python 3 (ipykernel)",
   "language": "python",
   "name": "python3"
  },
  "language_info": {
   "codemirror_mode": {
    "name": "ipython",
    "version": 3
   },
   "file_extension": ".py",
   "mimetype": "text/x-python",
   "name": "python",
   "nbconvert_exporter": "python",
   "pygments_lexer": "ipython3",
   "version": "3.8.8"
  }
 },
 "nbformat": 4,
 "nbformat_minor": 5
}
